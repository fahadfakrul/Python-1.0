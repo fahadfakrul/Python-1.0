{
  "nbformat": 4,
  "nbformat_minor": 0,
  "metadata": {
    "colab": {
      "provenance": [],
      "authorship_tag": "ABX9TyO8qkcd7jFVYdNkLKezxZoH",
      "include_colab_link": true
    },
    "kernelspec": {
      "name": "python3",
      "display_name": "Python 3"
    },
    "language_info": {
      "name": "python"
    }
  },
  "cells": [
    {
      "cell_type": "markdown",
      "metadata": {
        "id": "view-in-github",
        "colab_type": "text"
      },
      "source": [
        "<a href=\"https://colab.research.google.com/github/fahadfakrul/Python-1.0/blob/main/Dictionaries.ipynb\" target=\"_parent\"><img src=\"https://colab.research.google.com/assets/colab-badge.svg\" alt=\"Open In Colab\"/></a>"
      ]
    },
    {
      "cell_type": "markdown",
      "source": [
        "Dictionaries"
      ],
      "metadata": {
        "id": "zm94HN1_mpMS"
      }
    },
    {
      "cell_type": "code",
      "execution_count": null,
      "metadata": {
        "colab": {
          "base_uri": "https://localhost:8080/"
        },
        "id": "k6uZiLfzmobt",
        "outputId": "815c0074-7b9c-4e83-dc2b-366eeb715d6d"
      },
      "outputs": [
        {
          "output_type": "stream",
          "name": "stdout",
          "text": [
            "berlin\n"
          ]
        }
      ],
      "source": [
        "# Definition of countries and capital\n",
        "countries = ['spain', 'france', 'germany', 'norway']\n",
        "capitals = ['madrid', 'paris', 'berlin', 'oslo']\n",
        "\n",
        "# Get index of 'germany': ind_ger\n",
        "ind_ger= countries.index('germany')\n",
        "\n",
        "# Use ind_ger to print out capital of Germany\n",
        "print(capitals[ind_ger])\n"
      ]
    },
    {
      "cell_type": "code",
      "source": [
        "# Definition of countries and capital\n",
        "countries = ['spain', 'france', 'germany', 'norway']\n",
        "capitals = ['madrid', 'paris', 'berlin', 'oslo']\n",
        "\n",
        "# From string in countries and capitals, create dictionary europe\n",
        "europe = {'spain':'madrid', 'france':'paris', 'germany':'berlin', 'norway':'oslo' }\n",
        "\n",
        "# Print europe\n",
        "print(europe)"
      ],
      "metadata": {
        "colab": {
          "base_uri": "https://localhost:8080/"
        },
        "id": "XvBuuqH2sAN5",
        "outputId": "d2ec94f1-27f9-4e65-b5cd-7bce93100c0e"
      },
      "execution_count": null,
      "outputs": [
        {
          "output_type": "stream",
          "name": "stdout",
          "text": [
            "{'spain': 'madrid', 'france': 'paris', 'germany': 'berlin', 'norway': 'oslo'}\n"
          ]
        }
      ]
    },
    {
      "cell_type": "code",
      "source": [
        "# Definition of dictionary\n",
        "europe = {'spain':'madrid', 'france':'paris', 'germany':'berlin', 'norway':'oslo' }\n",
        "\n",
        "# Print out the keys in europe\n",
        "print(europe.keys())\n",
        "\n",
        "# Print out value that belongs to key 'norway'\n",
        "print(europe['norway'])"
      ],
      "metadata": {
        "id": "0z47eodisTgY",
        "outputId": "30bf06f8-c884-4062-adda-257bb3702504",
        "colab": {
          "base_uri": "https://localhost:8080/"
        }
      },
      "execution_count": null,
      "outputs": [
        {
          "output_type": "stream",
          "name": "stdout",
          "text": [
            "dict_keys(['spain', 'france', 'germany', 'norway'])\n",
            "oslo\n"
          ]
        }
      ]
    },
    {
      "cell_type": "code",
      "source": [
        "# Definition of dictionary\n",
        "europe = {'spain':'madrid', 'france':'paris', 'germany':'berlin', 'norway':'oslo' }\n",
        "\n",
        "# Add italy to europe\n",
        "europe[\"italy\"]=\"rome\"\n",
        "\n",
        "# Print out italy in europe\n",
        "print(\"italy\" in europe)\n",
        "\n",
        "# Add poland to europe\n",
        "europe[\"poland\"]=\"warsaw\"\n",
        "\n",
        "# Print europe\n",
        "print(europe)"
      ],
      "metadata": {
        "colab": {
          "base_uri": "https://localhost:8080/"
        },
        "id": "ZTE8QotgSacG",
        "outputId": "6f8d457d-0f02-4789-9c19-a670807ef387"
      },
      "execution_count": 1,
      "outputs": [
        {
          "output_type": "stream",
          "name": "stdout",
          "text": [
            "True\n",
            "{'spain': 'madrid', 'france': 'paris', 'germany': 'berlin', 'norway': 'oslo', 'italy': 'rome', 'poland': 'warsaw'}\n"
          ]
        }
      ]
    },
    {
      "cell_type": "code",
      "source": [
        "# Definition of dictionary\n",
        "europe = {'spain':'madrid', 'france':'paris', 'germany':'bonn',\n",
        "          'norway':'oslo', 'italy':'rome', 'poland':'warsaw',\n",
        "          'australia':'vienna' }\n",
        "\n",
        "# Update capital of germany\n",
        "europe[\"germany\"]=\"berlin\"\n",
        "\n",
        "# Remove australia\n",
        "del(europe[\"australia\"])\n",
        "\n",
        "# Print europe\n",
        "print(europe)"
      ],
      "metadata": {
        "colab": {
          "base_uri": "https://localhost:8080/"
        },
        "id": "-lINk9W9S3Yf",
        "outputId": "36639302-707b-4550-e2ef-8849f33ff5d1"
      },
      "execution_count": 2,
      "outputs": [
        {
          "output_type": "stream",
          "name": "stdout",
          "text": [
            "{'spain': 'madrid', 'france': 'paris', 'germany': 'berlin', 'norway': 'oslo', 'italy': 'rome', 'poland': 'warsaw'}\n"
          ]
        }
      ]
    },
    {
      "cell_type": "code",
      "source": [
        "# Dictionary of dictionaries\n",
        "europe = { 'spain': { 'capital':'madrid', 'population':46.77 },\n",
        "           'france': { 'capital':'paris', 'population':66.03 },\n",
        "           'germany': { 'capital':'berlin', 'population':80.62 },\n",
        "           'norway': { 'capital':'oslo', 'population':5.084 } }\n",
        "\n",
        "\n",
        "# Print out the capital of France\n",
        "print(europe[\"france\"][\"capital\"])\n",
        "\n",
        "# Create sub-dictionary data\n",
        "data = {\n",
        "    'capital': 'rome',\n",
        "    'population': 59.83\n",
        "}\n",
        "\n",
        "# Add data to europe under key 'italy'\n",
        "europe[\"italy\"]=data\n",
        "\n",
        "# Print europe\n",
        "print(europe)"
      ],
      "metadata": {
        "colab": {
          "base_uri": "https://localhost:8080/"
        },
        "id": "1d0o0aPoUEY-",
        "outputId": "505098ad-890b-47b1-f8d0-d05be89d9347"
      },
      "execution_count": 3,
      "outputs": [
        {
          "output_type": "stream",
          "name": "stdout",
          "text": [
            "paris\n",
            "{'spain': {'capital': 'madrid', 'population': 46.77}, 'france': {'capital': 'paris', 'population': 66.03}, 'germany': {'capital': 'berlin', 'population': 80.62}, 'norway': {'capital': 'oslo', 'population': 5.084}, 'italy': {'capital': 'rome', 'population': 59.83}}\n"
          ]
        }
      ]
    }
  ]
}