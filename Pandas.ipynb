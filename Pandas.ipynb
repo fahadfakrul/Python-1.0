{
  "nbformat": 4,
  "nbformat_minor": 0,
  "metadata": {
    "colab": {
      "provenance": [],
      "authorship_tag": "ABX9TyMku5RHc5anRfjyzZ9h4T58",
      "include_colab_link": true
    },
    "kernelspec": {
      "name": "python3",
      "display_name": "Python 3"
    },
    "language_info": {
      "name": "python"
    }
  },
  "cells": [
    {
      "cell_type": "markdown",
      "metadata": {
        "id": "view-in-github",
        "colab_type": "text"
      },
      "source": [
        "<a href=\"https://colab.research.google.com/github/fahadfakrul/Python-1.0/blob/main/Pandas.ipynb\" target=\"_parent\"><img src=\"https://colab.research.google.com/assets/colab-badge.svg\" alt=\"Open In Colab\"/></a>"
      ]
    },
    {
      "cell_type": "markdown",
      "source": [
        "Pandas"
      ],
      "metadata": {
        "id": "TrzT2p63Ua8i"
      }
    },
    {
      "cell_type": "code",
      "execution_count": 1,
      "metadata": {
        "colab": {
          "base_uri": "https://localhost:8080/"
        },
        "id": "6ckvDXfyUSOv",
        "outputId": "a01615f2-45c8-4db5-a015-bb5a24162e99"
      },
      "outputs": [
        {
          "output_type": "stream",
          "name": "stdout",
          "text": [
            "         country  drives_right  cars_per_cap\n",
            "0  United States          True           809\n",
            "1      Australia         False           731\n",
            "2          Japan         False           588\n",
            "3          India         False            18\n",
            "4         Russia          True           200\n",
            "5        Morocco          True            70\n",
            "6          Egypt          True            45\n"
          ]
        }
      ],
      "source": [
        "# Pre-defined lists\n",
        "names = ['United States', 'Australia', 'Japan', 'India', 'Russia', 'Morocco', 'Egypt']\n",
        "dr =  [True, False, False, False, True, True, True]\n",
        "cpc = [809, 731, 588, 18, 200, 70, 45]\n",
        "\n",
        "# Import pandas as pd\n",
        "import pandas as pd\n",
        "\n",
        "# Create dictionary my_dict with three key:value pairs: my_dict\n",
        "my_dict = {\n",
        "    'country': names,\n",
        "    'drives_right': dr,\n",
        "    'cars_per_cap': cpc\n",
        "}\n",
        "\n",
        "# Build a DataFrame cars from my_dict: cars\n",
        "cars = pd.DataFrame(my_dict)\n",
        "\n",
        "# Print cars\n",
        "print(cars)"
      ]
    },
    {
      "cell_type": "code",
      "source": [
        "import pandas as pd\n",
        "\n",
        "# Build cars DataFrame\n",
        "names = ['United States', 'Australia', 'Japan', 'India', 'Russia', 'Morocco', 'Egypt']\n",
        "dr =  [True, False, False, False, True, True, True]\n",
        "cpc = [809, 731, 588, 18, 200, 70, 45]\n",
        "cars_dict = { 'country':names, 'drives_right':dr, 'cars_per_cap':cpc }\n",
        "cars = pd.DataFrame(cars_dict)\n",
        "print(cars)\n",
        "\n",
        "# Definition of row_labels\n",
        "row_labels = ['US', 'AUS', 'JPN', 'IN', 'RU', 'MOR', 'EG']\n",
        "\n",
        "# Specify row labels of cars\n",
        "cars.index =  row_labels\n",
        "\n",
        "# Print cars again\n",
        "print(cars)"
      ],
      "metadata": {
        "colab": {
          "base_uri": "https://localhost:8080/"
        },
        "id": "oHRnFOZ_viYd",
        "outputId": "e8533e5b-0743-4ba2-ec47-22520c2ef901"
      },
      "execution_count": 2,
      "outputs": [
        {
          "output_type": "stream",
          "name": "stdout",
          "text": [
            "         country  drives_right  cars_per_cap\n",
            "0  United States          True           809\n",
            "1      Australia         False           731\n",
            "2          Japan         False           588\n",
            "3          India         False            18\n",
            "4         Russia          True           200\n",
            "5        Morocco          True            70\n",
            "6          Egypt          True            45\n",
            "           country  drives_right  cars_per_cap\n",
            "US   United States          True           809\n",
            "AUS      Australia         False           731\n",
            "JPN          Japan         False           588\n",
            "IN           India         False            18\n",
            "RU          Russia          True           200\n",
            "MOR        Morocco          True            70\n",
            "EG           Egypt          True            45\n"
          ]
        }
      ]
    },
    {
      "cell_type": "code",
      "source": [
        "# Import pandas as pd\n",
        "import pandas as pd\n",
        "\n",
        "# Import the cars.csv data: cars\n",
        "cars = pd.read_csv(\"/content/cars.csv\")\n",
        "\n",
        "# Print out cars\n",
        "print(cars)"
      ],
      "metadata": {
        "colab": {
          "base_uri": "https://localhost:8080/"
        },
        "id": "0aidSGvvx6IF",
        "outputId": "bc1a6994-a848-4b52-9264-6326a99574de"
      },
      "execution_count": 4,
      "outputs": [
        {
          "output_type": "stream",
          "name": "stdout",
          "text": [
            "    Unnamed: 0  cars_per_cap        country  drives_right\n",
            "NaN         US           809  United States          True\n",
            "NaN        AUS           731      Australia         False\n",
            "NaN        JAP           588          Japan         False\n",
            "NaN         IN            18          India         False\n",
            "NaN         RU           200         Russia          True\n",
            "NaN        MOR            70        Morocco          True\n",
            "NaN         EG            45          Egypt          True\n"
          ]
        }
      ]
    },
    {
      "cell_type": "code",
      "source": [
        "# Import pandas as pd\n",
        "import pandas as pd\n",
        "\n",
        "# Fix import by including index_col\n",
        "cars = pd.read_csv('cars.csv', index_col=0)\n",
        "\n",
        "# Print out cars\n",
        "print(cars)"
      ],
      "metadata": {
        "colab": {
          "base_uri": "https://localhost:8080/"
        },
        "id": "guBa2q7DymnV",
        "outputId": "2c002702-d927-42e0-fe8f-d04100945019"
      },
      "execution_count": 5,
      "outputs": [
        {
          "output_type": "stream",
          "name": "stdout",
          "text": [
            "    Unnamed: 0  cars_per_cap        country  drives_right\n",
            "NaN         US           809  United States          True\n",
            "NaN        AUS           731      Australia         False\n",
            "NaN        JAP           588          Japan         False\n",
            "NaN         IN            18          India         False\n",
            "NaN         RU           200         Russia          True\n",
            "NaN        MOR            70        Morocco          True\n",
            "NaN         EG            45          Egypt          True\n"
          ]
        }
      ]
    },
    {
      "cell_type": "code",
      "source": [
        "import pandas as pd\n",
        "cars = pd.read_csv('cars.csv', index_col = 0)"
      ],
      "metadata": {
        "id": "Z1wrNWsOynUn"
      },
      "execution_count": 6,
      "outputs": []
    },
    {
      "cell_type": "code",
      "source": [
        "# Import cars data\n",
        "import pandas as pd\n",
        "cars = pd.read_csv('cars.csv', index_col = 1)\n",
        "\n",
        "# Print out country column as Pandas Series\n",
        "print(cars[['country']])\n",
        "\n",
        "# Print out country column as Pandas DataFrame\n",
        "print(cars[['country']])\n",
        "\n",
        "# Print out DataFrame with country and drives_right columns\n",
        "print(cars[['country','drives_right']])"
      ],
      "metadata": {
        "colab": {
          "base_uri": "https://localhost:8080/"
        },
        "id": "uoNA2JRx7a_J",
        "outputId": "0ac91ae2-7fe5-469b-bed8-dd94bd3544eb"
      },
      "execution_count": 7,
      "outputs": [
        {
          "output_type": "stream",
          "name": "stdout",
          "text": [
            "           country\n",
            "US   United States\n",
            "AUS      Australia\n",
            "JAP          Japan\n",
            "IN           India\n",
            "RU          Russia\n",
            "MOR        Morocco\n",
            "EG           Egypt\n",
            "           country\n",
            "US   United States\n",
            "AUS      Australia\n",
            "JAP          Japan\n",
            "IN           India\n",
            "RU          Russia\n",
            "MOR        Morocco\n",
            "EG           Egypt\n",
            "           country  drives_right\n",
            "US   United States          True\n",
            "AUS      Australia         False\n",
            "JAP          Japan         False\n",
            "IN           India         False\n",
            "RU          Russia          True\n",
            "MOR        Morocco          True\n",
            "EG           Egypt          True\n"
          ]
        }
      ]
    },
    {
      "cell_type": "code",
      "source": [
        "# Import cars data\n",
        "import pandas as pd\n",
        "cars = pd.read_csv('cars.csv', index_col = 1)\n",
        "\n",
        "# Print out country column as Pandas Series\n",
        "print(cars['country'])\n",
        "\n",
        "# Print out country column as Pandas DataFrame\n",
        "print(cars[['country']])\n",
        "\n",
        "# Print out DataFrame with country and drives_right columns\n",
        "print(cars[['country', 'drives_right']])"
      ],
      "metadata": {
        "colab": {
          "base_uri": "https://localhost:8080/"
        },
        "id": "nFcKo-DN_g1g",
        "outputId": "23c0e1de-cb3e-47cb-d3d9-320e234d0a44"
      },
      "execution_count": 8,
      "outputs": [
        {
          "output_type": "stream",
          "name": "stdout",
          "text": [
            "US     United States\n",
            "AUS        Australia\n",
            "JAP            Japan\n",
            "IN             India\n",
            "RU            Russia\n",
            "MOR          Morocco\n",
            "EG             Egypt\n",
            "Name: country, dtype: object\n",
            "           country\n",
            "US   United States\n",
            "AUS      Australia\n",
            "JAP          Japan\n",
            "IN           India\n",
            "RU          Russia\n",
            "MOR        Morocco\n",
            "EG           Egypt\n",
            "           country  drives_right\n",
            "US   United States          True\n",
            "AUS      Australia         False\n",
            "JAP          Japan         False\n",
            "IN           India         False\n",
            "RU          Russia          True\n",
            "MOR        Morocco          True\n",
            "EG           Egypt          True\n"
          ]
        }
      ]
    },
    {
      "cell_type": "code",
      "source": [
        "# Print out first 3 observations\n",
        "print(cars[0:3])\n",
        "\n",
        "# Print out fourth, fifth and sixth observation\n",
        "print(cars[3:6])"
      ],
      "metadata": {
        "colab": {
          "base_uri": "https://localhost:8080/"
        },
        "id": "EixTakVgCUWZ",
        "outputId": "78682578-2ff0-4a29-f28a-bea8718cb2c8"
      },
      "execution_count": 9,
      "outputs": [
        {
          "output_type": "stream",
          "name": "stdout",
          "text": [
            "     Unnamed: 0  cars_per_cap        country  drives_right\n",
            "US          NaN           809  United States          True\n",
            "AUS         NaN           731      Australia         False\n",
            "JAP         NaN           588          Japan         False\n",
            "     Unnamed: 0  cars_per_cap  country  drives_right\n",
            "IN          NaN            18    India         False\n",
            "RU          NaN           200   Russia          True\n",
            "MOR         NaN            70  Morocco          True\n"
          ]
        }
      ]
    },
    {
      "cell_type": "code",
      "source": [
        "# Import cars data\n",
        "import pandas as pd\n",
        "cars = pd.read_csv('cars.csv', index_col = 1)\n",
        "# Print out observation for Japan\n",
        "print(cars.loc['JAP'])\n",
        "\n",
        "\n",
        "# Print out observations for Australia and Egypt\n",
        "print(cars.loc[['AUS','EG']])\n"
      ],
      "metadata": {
        "colab": {
          "base_uri": "https://localhost:8080/"
        },
        "id": "-4RTvYpJDHaj",
        "outputId": "bd5c8cfe-d7a0-47bf-d6de-499a71014b2d"
      },
      "execution_count": 10,
      "outputs": [
        {
          "output_type": "stream",
          "name": "stdout",
          "text": [
            "Unnamed: 0        NaN\n",
            "cars_per_cap      588\n",
            "country         Japan\n",
            "drives_right    False\n",
            "Name: JAP, dtype: object\n",
            "     Unnamed: 0  cars_per_cap    country  drives_right\n",
            "AUS         NaN           731  Australia         False\n",
            "EG          NaN            45      Egypt          True\n"
          ]
        }
      ]
    },
    {
      "cell_type": "code",
      "source": [
        "# Import cars data\n",
        "import pandas as pd\n",
        "cars = pd.read_csv('cars.csv', index_col = 1)\n",
        "\n",
        "# Print out drives_right value of Morocco\n",
        "print(cars.loc['MOR','drives_right'])\n",
        "\n",
        "# Print sub-DataFrame\n",
        "print(cars.loc[['RU', 'MOR'], ['country', 'drives_right']])"
      ],
      "metadata": {
        "colab": {
          "base_uri": "https://localhost:8080/"
        },
        "id": "T5W51Mnq5T1i",
        "outputId": "9e0a66c5-4881-4ae7-fbfc-7d453c7ebea1"
      },
      "execution_count": 12,
      "outputs": [
        {
          "output_type": "stream",
          "name": "stdout",
          "text": [
            "True\n",
            "     country  drives_right\n",
            "RU    Russia          True\n",
            "MOR  Morocco          True\n"
          ]
        }
      ]
    },
    {
      "cell_type": "code",
      "source": [
        "# Import cars data\n",
        "import pandas as pd\n",
        "cars = pd.read_csv('cars.csv', index_col = 1)\n",
        "\n",
        "# Print out drives_right column as Series\n",
        "print(cars['drives_right'])\n",
        "\n",
        "# Print out drives_right column as DataFrame\n",
        "print(cars.loc[:, ['drives_right']])\n",
        "\n",
        "# Print out cars_per_cap and drives_right as DataFrame\n",
        "print(cars.loc[:, ['cars_per_cap','drives_right']])"
      ],
      "metadata": {
        "colab": {
          "base_uri": "https://localhost:8080/"
        },
        "id": "NYrnmFJt6vzx",
        "outputId": "f48a3e7c-05ea-42c7-9333-8f44d13de494"
      },
      "execution_count": 14,
      "outputs": [
        {
          "output_type": "stream",
          "name": "stdout",
          "text": [
            "US      True\n",
            "AUS    False\n",
            "JAP    False\n",
            "IN     False\n",
            "RU      True\n",
            "MOR     True\n",
            "EG      True\n",
            "Name: drives_right, dtype: bool\n",
            "     drives_right\n",
            "US           True\n",
            "AUS         False\n",
            "JAP         False\n",
            "IN          False\n",
            "RU           True\n",
            "MOR          True\n",
            "EG           True\n",
            "     cars_per_cap  drives_right\n",
            "US            809          True\n",
            "AUS           731         False\n",
            "JAP           588         False\n",
            "IN             18         False\n",
            "RU            200          True\n",
            "MOR            70          True\n",
            "EG             45          True\n"
          ]
        }
      ]
    }
  ]
}