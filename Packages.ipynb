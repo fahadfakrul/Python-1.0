{
  "nbformat": 4,
  "nbformat_minor": 0,
  "metadata": {
    "colab": {
      "provenance": [],
      "authorship_tag": "ABX9TyMJAda8KD63njekLrzGQWyt",
      "include_colab_link": true
    },
    "kernelspec": {
      "name": "python3",
      "display_name": "Python 3"
    },
    "language_info": {
      "name": "python"
    }
  },
  "cells": [
    {
      "cell_type": "markdown",
      "metadata": {
        "id": "view-in-github",
        "colab_type": "text"
      },
      "source": [
        "<a href=\"https://colab.research.google.com/github/fahadfakrul/Python-1.0/blob/main/Packages.ipynb\" target=\"_parent\"><img src=\"https://colab.research.google.com/assets/colab-badge.svg\" alt=\"Open In Colab\"/></a>"
      ]
    },
    {
      "cell_type": "markdown",
      "source": [
        "popular python packages\n",
        "https://www.mygreatlearning.com/blog/open-source-python-libraries/\n",
        "\n",
        "https://pip.pypa.io/en/stable/installation/  for local installation library"
      ],
      "metadata": {
        "id": "gUzc2pbBioLw"
      }
    },
    {
      "cell_type": "code",
      "execution_count": 1,
      "metadata": {
        "colab": {
          "base_uri": "https://localhost:8080/"
        },
        "id": "-rQjIYjggg_0",
        "outputId": "a036db61-2dec-4652-ce23-fa75e1f0c06c"
      },
      "outputs": [
        {
          "output_type": "stream",
          "name": "stdout",
          "text": [
            "Circumference: 2.701769682087222\n",
            "Area: 0.5808804816487527\n"
          ]
        }
      ],
      "source": [
        "# Import the math package\n",
        "import math\n",
        "\n",
        "# Calculate C\n",
        "C = 2 * 0.43 * math.pi\n",
        "\n",
        "# Calculate A\n",
        "A = math.pi * 0.43 ** 2\n",
        "\n",
        "print(\"Circumference: \" + str(C))\n",
        "print(\"Area: \" + str(A))"
      ]
    },
    {
      "cell_type": "code",
      "source": [
        "# Import pi function of math package\n",
        "from math import pi\n",
        "\n",
        "# Calculate C\n",
        "C = 2 * 0.43 * pi\n",
        "\n",
        "# Calculate A\n",
        "A = pi * 0.43 ** 2\n",
        "\n",
        "print(\"Circumference: \" + str(C))\n",
        "print(\"Area: \" + str(A))"
      ],
      "metadata": {
        "colab": {
          "base_uri": "https://localhost:8080/"
        },
        "id": "5X5hvmJgkgV3",
        "outputId": "0e29da15-7bf8-4790-b859-439d0fec809a"
      },
      "execution_count": 2,
      "outputs": [
        {
          "output_type": "stream",
          "name": "stdout",
          "text": [
            "Circumference: 2.701769682087222\n",
            "Area: 0.5808804816487527\n"
          ]
        }
      ]
    },
    {
      "cell_type": "markdown",
      "source": [
        "NumPy"
      ],
      "metadata": {
        "id": "sC4T05mN70az"
      }
    },
    {
      "cell_type": "code",
      "source": [
        "# Import the numpy package as np\n",
        "import numpy as np\n",
        "\n",
        "baseball = [180, 215, 210, 210, 188, 176, 209, 200]\n",
        "\n",
        "# Create a numpy array from baseball: np_baseball\n",
        "np_baseball=np.array(baseball)\n",
        "\n",
        "# Print out type of np_baseball\n",
        "print(type(np_baseball))"
      ],
      "metadata": {
        "colab": {
          "base_uri": "https://localhost:8080/"
        },
        "id": "S0belZWD71Y7",
        "outputId": "0d53b75b-6325-4aae-ae21-3ef8c89607bb"
      },
      "execution_count": 3,
      "outputs": [
        {
          "output_type": "stream",
          "name": "stdout",
          "text": [
            "<class 'numpy.ndarray'>\n"
          ]
        }
      ]
    },
    {
      "cell_type": "code",
      "source": [
        "# Import numpy\n",
        "import numpy as np\n",
        "\n",
        "height_in = [170, 169.5, 154, ]\n",
        "# Create a numpy array from height_in: np_height_in\n",
        "np_height_in= np.array(height_in)\n",
        "\n",
        "# Print out np_height_in\n",
        "print(np_height_in)\n",
        "\n",
        "# Convert np_height_in to m: np_height_m\n",
        "np_height_m = np_height_in * 0.0254\n",
        "\n",
        "# Print np_height_m\n",
        "print(np_height_m)"
      ],
      "metadata": {
        "colab": {
          "base_uri": "https://localhost:8080/"
        },
        "id": "dTVcIr8x-yPS",
        "outputId": "e9237722-5f8d-4aac-ebdf-0b4ce97744be"
      },
      "execution_count": 6,
      "outputs": [
        {
          "output_type": "stream",
          "name": "stdout",
          "text": [
            "[170.  169.5 154. ]\n",
            "[4.318  4.3053 3.9116]\n"
          ]
        }
      ]
    },
    {
      "cell_type": "markdown",
      "source": [
        "numpy arrays cannot contain elements with different types. Second, the typical arithmetic operators, such as +, -, * and / have a different meaning for regular Python lists and numpy arrays."
      ],
      "metadata": {
        "id": "0nUhp4V6_fb6"
      }
    },
    {
      "cell_type": "code",
      "source": [
        "\n",
        "print(np.array([True, 1, 2]) + np.array([3, 4, False]))\n",
        "\n",
        "print(np.array([True, 1, 2, 3, 4, False]))\n",
        "\n",
        "print(np.array([4, 3, 0]) + np.array([0, 2, 2]))\n",
        "\n",
        "print(np.array([0, 1, 2, 3, 4, 5]))\n",
        "\n",
        "print(np.array([1, 1, 2]) + np.array([3, 4, -1]))\n",
        "\n"
      ],
      "metadata": {
        "colab": {
          "base_uri": "https://localhost:8080/"
        },
        "id": "1fKUmbnN_cWa",
        "outputId": "2b566f78-77c9-4d7f-e14d-03f0106f0abe"
      },
      "execution_count": 7,
      "outputs": [
        {
          "output_type": "stream",
          "name": "stdout",
          "text": [
            "[4 5 2]\n",
            "[1 1 2 3 4 0]\n",
            "[4 5 2]\n",
            "[0 1 2 3 4 5]\n",
            "[4 5 1]\n"
          ]
        }
      ]
    },
    {
      "cell_type": "code",
      "source": [
        "import numpy as np\n",
        "import random\n",
        "\n",
        "# Generate 150 random weights (in pounds) and heights (in inches)\n",
        "weight_lb = [random.randint(45, 120) for _ in range(150)]\n",
        "height_lb = [random.randint(150, 200) for _ in range(150)]\n",
        "\n",
        "# Convert the lists to numpy arrays\n",
        "np_weight_lb = np.array(weight_lb)\n",
        "np_height_lb = np.array(height_lb)  # corrected the name\n",
        "\n",
        "# Print out the weight at index 50\n",
        "print(\"Weight at index 50:\", np_weight_lb[50])\n",
        "\n",
        "# Print out sub-array of np_height_lb: index 100 up to and including index 110\n",
        "print(\"Height from index 100 to 110:\", np_height_lb[100:111])"
      ],
      "metadata": {
        "colab": {
          "base_uri": "https://localhost:8080/"
        },
        "id": "S7cpFPQ9BqHa",
        "outputId": "e97abaff-2a0a-432a-974f-7364e8be2a44"
      },
      "execution_count": 9,
      "outputs": [
        {
          "output_type": "stream",
          "name": "stdout",
          "text": [
            "Weight at index 50: 98\n",
            "Height from index 100 to 110: [162 180 171 183 189 153 152 152 171 181 198]\n"
          ]
        }
      ]
    },
    {
      "cell_type": "markdown",
      "source": [
        "2D NumPy Arrays"
      ],
      "metadata": {
        "id": "L61rsvdyCgIj"
      }
    },
    {
      "cell_type": "code",
      "source": [
        "import numpy as np\n",
        "\n",
        "baseball = [[180, 78.4],\n",
        "            [215, 102.7],\n",
        "            [210, 98.5],\n",
        "            [188, 75.2]]\n",
        "\n",
        "# Create a 2D numpy array from baseball: np_baseball\n",
        "np_baseball=np.array(baseball)\n",
        "\n",
        "# Print out the type of np_baseball\n",
        "print(type(np_baseball))\n",
        "\n",
        "# Print out the shape of np_baseball\n",
        "print(np_baseball.shape)"
      ],
      "metadata": {
        "colab": {
          "base_uri": "https://localhost:8080/"
        },
        "id": "NW88G-PsCfjb",
        "outputId": "f2be82a6-c866-45e6-be05-c7443a9b7fd6"
      },
      "execution_count": 10,
      "outputs": [
        {
          "output_type": "stream",
          "name": "stdout",
          "text": [
            "<class 'numpy.ndarray'>\n",
            "(4, 2)\n"
          ]
        }
      ]
    },
    {
      "cell_type": "code",
      "source": [
        "# import numpy as np\n",
        "\n",
        "# np_baseball = np.array(baseball)\n",
        "\n",
        "# # Print out the 50th row of np_baseball\n",
        "# print(np_baseball[49,:])\n",
        "\n",
        "# # Select the entire second column of np_baseball: np_weight_lb\n",
        "# np_weight_lb=np_baseball[:,1]\n",
        "\n",
        "# # Print out height of 124th player\n",
        "# np_height_lb=np_baseball[123,0]\n",
        "# print(np_height_lb)"
      ],
      "metadata": {
        "id": "rpebeFqvcdvJ"
      },
      "execution_count": 11,
      "outputs": []
    },
    {
      "cell_type": "code",
      "source": [
        "# import numpy as np\n",
        "\n",
        "# np_baseball = np.array(baseball)\n",
        "\n",
        "# # Print out addition of np_baseball and updated\n",
        "# print(np_baseball+updated)\n",
        "\n",
        "# # Create numpy array: conversion\n",
        "# conversion=np.array([0.0254,0.453592,1])\n",
        "\n",
        "# # Print out product of np_baseball and conversion\n",
        "# print(np_baseball*conversion)"
      ],
      "metadata": {
        "id": "wEP6kRyFdTQY"
      },
      "execution_count": 12,
      "outputs": []
    },
    {
      "cell_type": "markdown",
      "source": [
        "NumPy: Basic Statistics"
      ],
      "metadata": {
        "id": "1F1EVEmwdby5"
      }
    },
    {
      "cell_type": "code",
      "source": [
        "# import numpy as np\n",
        "\n",
        "# # Create np_height_in from np_baseball\n",
        "# np_height_in = np_baseball[:, 0]\n",
        "\n",
        "# # Print out the mean of np_height_in\n",
        "# print(np.mean(np_height_in))\n",
        "\n",
        "# # Print out the median of np_height_in\n",
        "# print(np.median(np_height_in))\n",
        "# https://numpy.org/devdocs/reference/routines.statistics.html"
      ],
      "metadata": {
        "id": "cEtwQJQNdbeg"
      },
      "execution_count": 1,
      "outputs": []
    }
  ]
}