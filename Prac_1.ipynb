{
  "nbformat": 4,
  "nbformat_minor": 0,
  "metadata": {
    "colab": {
      "provenance": [],
      "authorship_tag": "ABX9TyOexVch1xsIX1Vz9m+aKZcb",
      "include_colab_link": true
    },
    "kernelspec": {
      "name": "python3",
      "display_name": "Python 3"
    },
    "language_info": {
      "name": "python"
    }
  },
  "cells": [
    {
      "cell_type": "markdown",
      "metadata": {
        "id": "view-in-github",
        "colab_type": "text"
      },
      "source": [
        "<a href=\"https://colab.research.google.com/github/fahadfakrul/Python-1.0/blob/main/Prac_1.ipynb\" target=\"_parent\"><img src=\"https://colab.research.google.com/assets/colab-badge.svg\" alt=\"Open In Colab\"/></a>"
      ]
    },
    {
      "cell_type": "markdown",
      "source": [
        "Variables"
      ],
      "metadata": {
        "id": "XyrR1PZbinZq"
      }
    },
    {
      "cell_type": "code",
      "execution_count": null,
      "metadata": {
        "colab": {
          "base_uri": "https://localhost:8080/"
        },
        "id": "JmJJbA9Pii7b",
        "outputId": "db6d9ceb-c8f2-47d5-c807-f82b4a5b046d"
      },
      "outputs": [
        {
          "output_type": "stream",
          "name": "stdout",
          "text": [
            "1220\n"
          ]
        }
      ],
      "source": [
        "rent = 1220\n",
        "gas = 202.55\n",
        "groceries = 305.6\n",
        "print(rent)"
      ]
    },
    {
      "cell_type": "code",
      "source": [
        "total=rent+gas+groceries\n",
        "print(total)"
      ],
      "metadata": {
        "colab": {
          "base_uri": "https://localhost:8080/"
        },
        "id": "EL0SoAwEi8Dt",
        "outputId": "febd6742-924d-48b7-a153-22cf9cd67ded"
      },
      "execution_count": null,
      "outputs": [
        {
          "output_type": "stream",
          "name": "stdout",
          "text": [
            "1728.15\n"
          ]
        }
      ]
    },
    {
      "cell_type": "code",
      "source": [
        "rent=1400\n",
        "item=\"rent\"\n",
        "print(\"i have to pay\",rent,item)"
      ],
      "metadata": {
        "colab": {
          "base_uri": "https://localhost:8080/"
        },
        "id": "NzFWuOG2jD7M",
        "outputId": "716305ba-bf5e-458a-f16d-bf21fe0f7416"
      },
      "execution_count": null,
      "outputs": [
        {
          "output_type": "stream",
          "name": "stdout",
          "text": [
            "i have to pay 1400 rent\n"
          ]
        }
      ]
    },
    {
      "cell_type": "code",
      "source": [
        "#keyword cannot be used as variable\n",
        "#like\n",
        "#True False and for"
      ],
      "metadata": {
        "id": "3qhNaIrLj-kf"
      },
      "execution_count": null,
      "outputs": []
    },
    {
      "cell_type": "markdown",
      "source": [
        "Numbers"
      ],
      "metadata": {
        "id": "JTLk-_eK2E4J"
      }
    },
    {
      "cell_type": "code",
      "source": [
        "print(4+5)\n",
        "print(9*3)\n",
        "print(12/6)\n",
        "print(12%6)\n",
        "print(3**2) #squrae"
      ],
      "metadata": {
        "colab": {
          "base_uri": "https://localhost:8080/"
        },
        "id": "IUamceB5kbic",
        "outputId": "925b1481-4b37-4478-f20c-ca20b7922b33"
      },
      "execution_count": null,
      "outputs": [
        {
          "output_type": "stream",
          "name": "stdout",
          "text": [
            "9\n",
            "27\n",
            "2.0\n",
            "0\n",
            "9\n"
          ]
        }
      ]
    },
    {
      "cell_type": "code",
      "source": [
        "#time=? if mph=65 and distance= 350\n",
        "mph=65\n",
        "distance=350\n",
        "time=distance/mph\n",
        "print(time)"
      ],
      "metadata": {
        "colab": {
          "base_uri": "https://localhost:8080/"
        },
        "id": "8V3Ov8XUlDeD",
        "outputId": "683fdcde-ee66-476f-ad12-174265acb88e"
      },
      "execution_count": 1,
      "outputs": [
        {
          "output_type": "stream",
          "name": "stdout",
          "text": [
            "5.384615384615385\n"
          ]
        }
      ]
    },
    {
      "cell_type": "code",
      "source": [
        "\n",
        "print(\"round time\",round(time,2))\n",
        "round(time,3)"
      ],
      "metadata": {
        "colab": {
          "base_uri": "https://localhost:8080/"
        },
        "id": "-5exRtis1AJi",
        "outputId": "09bc074f-fc76-4165-cfba-a084daec151d"
      },
      "execution_count": 3,
      "outputs": [
        {
          "output_type": "stream",
          "name": "stdout",
          "text": [
            "round time 5.38\n"
          ]
        },
        {
          "output_type": "execute_result",
          "data": {
            "text/plain": [
              "5.385"
            ]
          },
          "metadata": {},
          "execution_count": 3
        }
      ]
    },
    {
      "cell_type": "code",
      "source": [
        "#priority like bodmas\n",
        "print(2+3*5)\n",
        "(10+2)*3"
      ],
      "metadata": {
        "colab": {
          "base_uri": "https://localhost:8080/"
        },
        "id": "YeNeSfBV1WIL",
        "outputId": "53349658-e3b9-4b8a-b45c-9c3d34a33e38"
      },
      "execution_count": 5,
      "outputs": [
        {
          "output_type": "stream",
          "name": "stdout",
          "text": [
            "17\n"
          ]
        },
        {
          "output_type": "execute_result",
          "data": {
            "text/plain": [
              "36"
            ]
          },
          "metadata": {},
          "execution_count": 5
        }
      ]
    },
    {
      "cell_type": "code",
      "source": [
        "round(6-5.7,2)"
      ],
      "metadata": {
        "colab": {
          "base_uri": "https://localhost:8080/"
        },
        "id": "XuTro0jB1usw",
        "outputId": "a2d72775-2757-41e3-dccc-2ea2278fa579"
      },
      "execution_count": 9,
      "outputs": [
        {
          "output_type": "execute_result",
          "data": {
            "text/plain": [
              "0.3"
            ]
          },
          "metadata": {},
          "execution_count": 9
        }
      ]
    },
    {
      "cell_type": "markdown",
      "source": [
        "Strings"
      ],
      "metadata": {
        "id": "TH8onzrF2Isw"
      }
    },
    {
      "cell_type": "code",
      "source": [
        "text=\"ice cream\"\n",
        "print(text)"
      ],
      "metadata": {
        "colab": {
          "base_uri": "https://localhost:8080/"
        },
        "id": "ITqSq0Qz2H24",
        "outputId": "adb4a15b-13db-4b96-f95c-71a240c742f8"
      },
      "execution_count": 10,
      "outputs": [
        {
          "output_type": "stream",
          "name": "stdout",
          "text": [
            "ice cream\n"
          ]
        }
      ]
    },
    {
      "cell_type": "code",
      "source": [
        "print(text[0])\n",
        "print(text[1])\n",
        "print(text[3])\n",
        "print(text[6])"
      ],
      "metadata": {
        "colab": {
          "base_uri": "https://localhost:8080/"
        },
        "id": "KCwLUvoY2VEo",
        "outputId": "421c0dd7-b9c1-442e-9120-f3493ae479c4"
      },
      "execution_count": 13,
      "outputs": [
        {
          "output_type": "stream",
          "name": "stdout",
          "text": [
            "i\n",
            "c\n",
            " \n",
            "e\n"
          ]
        }
      ]
    },
    {
      "cell_type": "code",
      "source": [
        "#text[0]='g'b # not possible\n",
        "print(text)"
      ],
      "metadata": {
        "colab": {
          "base_uri": "https://localhost:8080/"
        },
        "id": "xHy9PmMv2rkh",
        "outputId": "f4fa232e-713e-4f5d-c4a4-b1b43c2c807e"
      },
      "execution_count": 15,
      "outputs": [
        {
          "output_type": "stream",
          "name": "stdout",
          "text": [
            "ice cream\n"
          ]
        }
      ]
    },
    {
      "cell_type": "code",
      "source": [
        "print(text[0:3])\n",
        "print(text[4:9])\n",
        "print(text[4:])\n",
        "print(text[:3])"
      ],
      "metadata": {
        "colab": {
          "base_uri": "https://localhost:8080/"
        },
        "id": "qudhc9C923rI",
        "outputId": "362460c7-448a-450a-a51f-547b086b507e"
      },
      "execution_count": 19,
      "outputs": [
        {
          "output_type": "stream",
          "name": "stdout",
          "text": [
            "ice\n",
            "cream\n",
            "cream\n",
            "ice\n"
          ]
        }
      ]
    },
    {
      "cell_type": "code",
      "source": [
        "text='hello'\n",
        "text=\"hello\"\n",
        "#text='let's learn pyhton' #not possible\n",
        "text=\"let's learn pyhton\"\n",
        "print(text)\n",
        "text='let\\'s learn pyhton'\n",
        "print(text)"
      ],
      "metadata": {
        "colab": {
          "base_uri": "https://localhost:8080/"
        },
        "id": "jhpipBQo3JOA",
        "outputId": "6e7751ee-ccd0-422c-afce-496d07c11da6"
      },
      "execution_count": 21,
      "outputs": [
        {
          "output_type": "stream",
          "name": "stdout",
          "text": [
            "let's learn pyhton\n",
            "let's learn pyhton\n"
          ]
        }
      ]
    },
    {
      "cell_type": "code",
      "source": [
        "address='''1 purple st\n",
        "new york\n",
        "usa'''\n",
        "print(address)"
      ],
      "metadata": {
        "colab": {
          "base_uri": "https://localhost:8080/"
        },
        "id": "tllvr2LQ3iMo",
        "outputId": "b94dc452-c1b0-4076-d3d5-cb711561d453"
      },
      "execution_count": 22,
      "outputs": [
        {
          "output_type": "stream",
          "name": "stdout",
          "text": [
            "1 purple st\n",
            "new york\n",
            "usa\n"
          ]
        }
      ]
    },
    {
      "cell_type": "code",
      "source": [
        "s1='hello'\n",
        "s2='there'\n",
        "print(s1+s2)\n",
        "print(s1+' '+s2)"
      ],
      "metadata": {
        "colab": {
          "base_uri": "https://localhost:8080/"
        },
        "id": "YxLqYhOtTTYV",
        "outputId": "e7737994-2c06-40c5-b9d6-6aef9108acc8"
      },
      "execution_count": 23,
      "outputs": [
        {
          "output_type": "stream",
          "name": "stdout",
          "text": [
            "hellothere\n",
            "hello there\n"
          ]
        }
      ]
    },
    {
      "cell_type": "code",
      "source": [
        "s = 'total state tax = '\n",
        "num= 9.25\n",
        "#print(s+num) #cannot convert number into string\n",
        "print(s+str(num))"
      ],
      "metadata": {
        "colab": {
          "base_uri": "https://localhost:8080/"
        },
        "id": "W3hIGzCETXHk",
        "outputId": "f37b802c-675a-4eb7-846f-a845f0cac593"
      },
      "execution_count": 25,
      "outputs": [
        {
          "output_type": "stream",
          "name": "stdout",
          "text": [
            "total state tax = 9.25\n"
          ]
        }
      ]
    },
    {
      "cell_type": "markdown",
      "source": [
        "Lists"
      ],
      "metadata": {
        "id": "0PNr0FmhT6Le"
      }
    },
    {
      "cell_type": "code",
      "source": [
        "items=['bread','pasta','fruits','veggies']\n",
        "print(items)"
      ],
      "metadata": {
        "colab": {
          "base_uri": "https://localhost:8080/"
        },
        "id": "2ZXZ1jbVT71V",
        "outputId": "aa934c6d-b8b6-4dbe-d817-4cadd07712ee"
      },
      "execution_count": 26,
      "outputs": [
        {
          "output_type": "stream",
          "name": "stdout",
          "text": [
            "['bread', 'pasta', 'fruits', 'veggies']\n"
          ]
        }
      ]
    },
    {
      "cell_type": "code",
      "source": [
        "items[0]"
      ],
      "metadata": {
        "colab": {
          "base_uri": "https://localhost:8080/",
          "height": 35
        },
        "id": "V3F0_1upUJy1",
        "outputId": "67ea44d0-17e8-4098-e65c-1f80f3829081"
      },
      "execution_count": 27,
      "outputs": [
        {
          "output_type": "execute_result",
          "data": {
            "text/plain": [
              "'bread'"
            ],
            "application/vnd.google.colaboratory.intrinsic+json": {
              "type": "string"
            }
          },
          "metadata": {},
          "execution_count": 27
        }
      ]
    },
    {
      "cell_type": "code",
      "source": [
        "print(items[0])\n",
        "print(items[2])"
      ],
      "metadata": {
        "colab": {
          "base_uri": "https://localhost:8080/"
        },
        "id": "7tAuIDGHUTPr",
        "outputId": "3794cc2d-5337-4c53-a036-bbff6ffd6265"
      },
      "execution_count": 28,
      "outputs": [
        {
          "output_type": "stream",
          "name": "stdout",
          "text": [
            "bread\n",
            "fruits\n"
          ]
        }
      ]
    },
    {
      "cell_type": "code",
      "source": [
        "items[0]='chips'\n",
        "print(items)"
      ],
      "metadata": {
        "colab": {
          "base_uri": "https://localhost:8080/"
        },
        "id": "V-L-XhLLUlg9",
        "outputId": "6bbe8522-018f-4541-f66d-70aee274cd05"
      },
      "execution_count": 29,
      "outputs": [
        {
          "output_type": "stream",
          "name": "stdout",
          "text": [
            "['chips', 'pasta', 'fruits', 'veggies']\n"
          ]
        }
      ]
    },
    {
      "cell_type": "code",
      "source": [
        "items[0:2]"
      ],
      "metadata": {
        "colab": {
          "base_uri": "https://localhost:8080/"
        },
        "id": "OD8CJ4RNUoOd",
        "outputId": "ac6e06f3-30de-494a-b190-543fbaf11a7f"
      },
      "execution_count": 30,
      "outputs": [
        {
          "output_type": "execute_result",
          "data": {
            "text/plain": [
              "['chips', 'pasta']"
            ]
          },
          "metadata": {},
          "execution_count": 30
        }
      ]
    },
    {
      "cell_type": "code",
      "source": [
        "items[-1]"
      ],
      "metadata": {
        "colab": {
          "base_uri": "https://localhost:8080/",
          "height": 35
        },
        "id": "k8G0JKr7UsOi",
        "outputId": "b2937648-3bf9-4f27-cc05-c1bc3002e8ef"
      },
      "execution_count": 31,
      "outputs": [
        {
          "output_type": "execute_result",
          "data": {
            "text/plain": [
              "'veggies'"
            ],
            "application/vnd.google.colaboratory.intrinsic+json": {
              "type": "string"
            }
          },
          "metadata": {},
          "execution_count": 31
        }
      ]
    },
    {
      "cell_type": "code",
      "source": [
        "items[-2]\n"
      ],
      "metadata": {
        "colab": {
          "base_uri": "https://localhost:8080/",
          "height": 35
        },
        "id": "drWwt3zeUyjS",
        "outputId": "82f2cf26-4dee-4ff4-9902-d9006f4d5c1c"
      },
      "execution_count": 36,
      "outputs": [
        {
          "output_type": "execute_result",
          "data": {
            "text/plain": [
              "'fruits'"
            ],
            "application/vnd.google.colaboratory.intrinsic+json": {
              "type": "string"
            }
          },
          "metadata": {},
          "execution_count": 36
        }
      ]
    },
    {
      "cell_type": "code",
      "source": [
        "items.append('butter')\n",
        "print(items)"
      ],
      "metadata": {
        "colab": {
          "base_uri": "https://localhost:8080/"
        },
        "id": "PO58ebOBVF2c",
        "outputId": "cef476e2-5c88-4467-ec70-b0959d54369b"
      },
      "execution_count": 37,
      "outputs": [
        {
          "output_type": "stream",
          "name": "stdout",
          "text": [
            "['chips', 'pasta', 'fruits', 'veggies', 'butter']\n"
          ]
        }
      ]
    },
    {
      "cell_type": "code",
      "source": [
        "items.insert(1,'peanut')\n",
        "print(items)"
      ],
      "metadata": {
        "colab": {
          "base_uri": "https://localhost:8080/"
        },
        "id": "eyehjWY5VPnM",
        "outputId": "56eaf2c5-7ab7-4117-a7f4-1731efd6d1a8"
      },
      "execution_count": 38,
      "outputs": [
        {
          "output_type": "stream",
          "name": "stdout",
          "text": [
            "['chips', 'peanut', 'pasta', 'fruits', 'veggies', 'butter']\n"
          ]
        }
      ]
    },
    {
      "cell_type": "code",
      "source": [
        "food=['bread','pasta','fruits']\n",
        "bathroom=['shampoo','soap']\n",
        "items=food+bathroom\n",
        "#items=food+'shampoo' #not possible #only lists can be added together\n",
        "print(items)"
      ],
      "metadata": {
        "colab": {
          "base_uri": "https://localhost:8080/"
        },
        "id": "XuBZKM7lVYvj",
        "outputId": "2a06159d-b170-4589-a1d5-3514aa7d86d4"
      },
      "execution_count": 39,
      "outputs": [
        {
          "output_type": "stream",
          "name": "stdout",
          "text": [
            "['bread', 'pasta', 'fruits', 'shampoo', 'soap']\n"
          ]
        }
      ]
    },
    {
      "cell_type": "code",
      "source": [
        "len(items)"
      ],
      "metadata": {
        "colab": {
          "base_uri": "https://localhost:8080/"
        },
        "id": "2NWEaCpTVePy",
        "outputId": "afd68287-f89b-477d-a306-80929ff6d9c2"
      },
      "execution_count": 40,
      "outputs": [
        {
          "output_type": "execute_result",
          "data": {
            "text/plain": [
              "5"
            ]
          },
          "metadata": {},
          "execution_count": 40
        }
      ]
    },
    {
      "cell_type": "code",
      "source": [
        "\"bread\" in items"
      ],
      "metadata": {
        "colab": {
          "base_uri": "https://localhost:8080/"
        },
        "id": "Xox8fNRQV1CS",
        "outputId": "c18d1933-5472-4327-9bee-6081ac1ccfae"
      },
      "execution_count": 42,
      "outputs": [
        {
          "output_type": "execute_result",
          "data": {
            "text/plain": [
              "True"
            ]
          },
          "metadata": {},
          "execution_count": 42
        }
      ]
    },
    {
      "cell_type": "code",
      "source": [
        "\"soda\" in items"
      ],
      "metadata": {
        "colab": {
          "base_uri": "https://localhost:8080/"
        },
        "id": "_9Pw6d57V7Eq",
        "outputId": "2f83a149-5709-4d20-ba5a-7ba3becb2f4c"
      },
      "execution_count": 43,
      "outputs": [
        {
          "output_type": "execute_result",
          "data": {
            "text/plain": [
              "False"
            ]
          },
          "metadata": {},
          "execution_count": 43
        }
      ]
    }
  ]
}