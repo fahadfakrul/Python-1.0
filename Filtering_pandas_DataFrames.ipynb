{
  "nbformat": 4,
  "nbformat_minor": 0,
  "metadata": {
    "colab": {
      "provenance": [],
      "authorship_tag": "ABX9TyP4dTikDqmOCPe2tdJ4gEk6",
      "include_colab_link": true
    },
    "kernelspec": {
      "name": "python3",
      "display_name": "Python 3"
    },
    "language_info": {
      "name": "python"
    }
  },
  "cells": [
    {
      "cell_type": "markdown",
      "metadata": {
        "id": "view-in-github",
        "colab_type": "text"
      },
      "source": [
        "<a href=\"https://colab.research.google.com/github/fahadfakrul/Python-1.0/blob/main/Filtering_pandas_DataFrames.ipynb\" target=\"_parent\"><img src=\"https://colab.research.google.com/assets/colab-badge.svg\" alt=\"Open In Colab\"/></a>"
      ]
    },
    {
      "cell_type": "markdown",
      "source": [
        "Filtering pandas DataFrames"
      ],
      "metadata": {
        "id": "xM6H8hC4PMsI"
      }
    },
    {
      "cell_type": "code",
      "source": [
        "# Import cars data\n",
        "import pandas as pd\n",
        "cars = pd.read_csv('cars.csv', index_col = 0)\n",
        "\n",
        "# Extract drives_right column as Series: dr\n",
        "dr = cars['drives_right']\n",
        "\n",
        "# Use dr to subset cars: sel\n",
        "sel = cars[dr]\n",
        "\n",
        "# Print sel\n",
        "print(sel)\n"
      ],
      "metadata": {
        "colab": {
          "base_uri": "https://localhost:8080/"
        },
        "id": "-dSnNCmoQEhF",
        "outputId": "514be076-6188-42e6-b7b9-5205ecb13c62"
      },
      "execution_count": null,
      "outputs": [
        {
          "output_type": "stream",
          "name": "stdout",
          "text": [
            "    Unnamed: 0  cars_per_cap        country  drives_right\n",
            "NaN         US           809  United States          True\n",
            "NaN         RU           200         Russia          True\n",
            "NaN        MOR            70        Morocco          True\n",
            "NaN         EG            45          Egypt          True\n"
          ]
        }
      ]
    },
    {
      "cell_type": "code",
      "source": [
        "# Import cars data\n",
        "import pandas as pd\n",
        "cars = pd.read_csv('cars.csv', index_col = 0)\n",
        "\n",
        "# Convert code to a one-liner\n",
        "\n",
        "sel = cars[cars['drives_right']]\n",
        "\n",
        "# Print sel\n",
        "print(sel)"
      ],
      "metadata": {
        "colab": {
          "base_uri": "https://localhost:8080/"
        },
        "id": "F_znzn5VQYQ1",
        "outputId": "e1403663-8b7b-4669-ff1c-43f437bb4788"
      },
      "execution_count": null,
      "outputs": [
        {
          "output_type": "stream",
          "name": "stdout",
          "text": [
            "    Unnamed: 0  cars_per_cap        country  drives_right\n",
            "NaN         US           809  United States          True\n",
            "NaN         RU           200         Russia          True\n",
            "NaN        MOR            70        Morocco          True\n",
            "NaN         EG            45          Egypt          True\n"
          ]
        }
      ]
    },
    {
      "cell_type": "code",
      "source": [
        "# Import cars data\n",
        "import pandas as pd\n",
        "cars = pd.read_csv('cars.csv', index_col = 0)\n",
        "\n",
        "# Create car_maniac: observations that have a cars_per_cap over 500\n",
        "cpc= cars['cars_per_cap']\n",
        "many_cars= cpc > 500\n",
        "car_maniac = cars[many_cars]\n",
        "\n",
        "# Print car_maniac\n",
        "print(car_maniac)"
      ],
      "metadata": {
        "colab": {
          "base_uri": "https://localhost:8080/"
        },
        "id": "Pp52R_ncR1H9",
        "outputId": "4b016407-7242-425e-bc63-4c87c9ef7110"
      },
      "execution_count": null,
      "outputs": [
        {
          "output_type": "stream",
          "name": "stdout",
          "text": [
            "    Unnamed: 0  cars_per_cap        country  drives_right\n",
            "NaN         US           809  United States          True\n",
            "NaN        AUS           731      Australia         False\n",
            "NaN        JAP           588          Japan         False\n"
          ]
        }
      ]
    },
    {
      "cell_type": "code",
      "source": [
        "# Import cars data\n",
        "import pandas as pd\n",
        "cars = pd.read_csv('cars.csv', index_col = 0)\n",
        "\n",
        "# Create car_maniac: observations that have a cars_per_cap over 500\n",
        "car_maniac = cars[cars['cars_per_cap'] > 500]\n",
        "\n",
        "# Print car_maniac\n",
        "print(car_maniac)"
      ],
      "metadata": {
        "colab": {
          "base_uri": "https://localhost:8080/"
        },
        "id": "lLeGQ5fZR12d",
        "outputId": "76a333b6-784a-47e2-9393-a691865c70f5"
      },
      "execution_count": null,
      "outputs": [
        {
          "output_type": "stream",
          "name": "stdout",
          "text": [
            "    Unnamed: 0  cars_per_cap        country  drives_right\n",
            "NaN         US           809  United States          True\n",
            "NaN        AUS           731      Australia         False\n",
            "NaN        JAP           588          Japan         False\n"
          ]
        }
      ]
    },
    {
      "cell_type": "code",
      "source": [
        "# Import cars data\n",
        "import pandas as pd\n",
        "cars = pd.read_csv('cars.csv', index_col = 0)\n",
        "\n",
        "# Import numpy, you'll need this\n",
        "import numpy as np\n",
        "\n",
        "# Create medium: observations with cars_per_cap between 100 and 500\n",
        "cpc = cars['cars_per_cap']\n",
        "between = np.logical_and(cpc > 100, cpc < 500)\n",
        "medium = cars[between]\n",
        "\n",
        "# Print medium\n",
        "print(medium)"
      ],
      "metadata": {
        "id": "6AyDg1m_SDFt",
        "colab": {
          "base_uri": "https://localhost:8080/"
        },
        "outputId": "10f72336-aa79-45fa-e900-aebc5a5cfe7e"
      },
      "execution_count": 7,
      "outputs": [
        {
          "output_type": "stream",
          "name": "stdout",
          "text": [
            "    Unnamed: 0  cars_per_cap country  drives_right\n",
            "NaN         RU           200  Russia          True\n"
          ]
        }
      ]
    }
  ]
}