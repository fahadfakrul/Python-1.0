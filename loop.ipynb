{
  "nbformat": 4,
  "nbformat_minor": 0,
  "metadata": {
    "colab": {
      "provenance": [],
      "authorship_tag": "ABX9TyNbCEjDfDAEXq+tlFe9nBWa",
      "include_colab_link": true
    },
    "kernelspec": {
      "name": "python3",
      "display_name": "Python 3"
    },
    "language_info": {
      "name": "python"
    }
  },
  "cells": [
    {
      "cell_type": "markdown",
      "metadata": {
        "id": "view-in-github",
        "colab_type": "text"
      },
      "source": [
        "<a href=\"https://colab.research.google.com/github/fahadfakrul/Python-1.0/blob/main/loop.ipynb\" target=\"_parent\"><img src=\"https://colab.research.google.com/assets/colab-badge.svg\" alt=\"Open In Colab\"/></a>"
      ]
    },
    {
      "cell_type": "markdown",
      "source": [
        "while loop"
      ],
      "metadata": {
        "id": "aFv0Xx6bfoY5"
      }
    },
    {
      "cell_type": "code",
      "execution_count": 1,
      "metadata": {
        "colab": {
          "base_uri": "https://localhost:8080/"
        },
        "id": "oi4o6O85fclf",
        "outputId": "7cf3185b-f24a-4d2a-e931-32427f6546e9"
      },
      "outputs": [
        {
          "output_type": "stream",
          "name": "stdout",
          "text": [
            "correcting...\n",
            "7\n",
            "correcting...\n",
            "6\n",
            "correcting...\n",
            "5\n",
            "correcting...\n",
            "4\n",
            "correcting...\n",
            "3\n",
            "correcting...\n",
            "2\n",
            "correcting...\n",
            "1\n",
            "correcting...\n",
            "0\n"
          ]
        }
      ],
      "source": [
        "# Initialize offset\n",
        "offset = 8\n",
        "\n",
        "# Code the while loop\n",
        "while offset > 0 :\n",
        "    print(\"correcting...\")\n",
        "    offset = offset - 1\n",
        "    print(offset)"
      ]
    },
    {
      "cell_type": "code",
      "source": [
        "# Initialize offset\n",
        "offset = -6\n",
        "\n",
        "# Code the while loop\n",
        "while offset != 0 :\n",
        "    print(\"correcting...\")\n",
        "    if offset > 0 :\n",
        "      offset = offset - 1\n",
        "    else :\n",
        "      offset = offset + 1\n",
        "    print(offset)"
      ],
      "metadata": {
        "colab": {
          "base_uri": "https://localhost:8080/"
        },
        "id": "ivy_1r5YioCn",
        "outputId": "b16130c8-4418-49fa-f852-f7db72e27eba"
      },
      "execution_count": 2,
      "outputs": [
        {
          "output_type": "stream",
          "name": "stdout",
          "text": [
            "correcting...\n",
            "-5\n",
            "correcting...\n",
            "-4\n",
            "correcting...\n",
            "-3\n",
            "correcting...\n",
            "-2\n",
            "correcting...\n",
            "-1\n",
            "correcting...\n",
            "0\n"
          ]
        }
      ]
    },
    {
      "cell_type": "markdown",
      "source": [
        "for loop"
      ],
      "metadata": {
        "id": "4pELGWsbiq7Y"
      }
    },
    {
      "cell_type": "code",
      "source": [
        "# areas list\n",
        "areas = [11.25, 18.0, 20.0, 10.75, 9.50]\n",
        "\n",
        "# Code the for loop\n",
        "for area in areas :\n",
        "    print(area)"
      ],
      "metadata": {
        "colab": {
          "base_uri": "https://localhost:8080/"
        },
        "id": "sWtjEVDLiriH",
        "outputId": "b66747dd-8839-45ab-d2dc-75338e0c8f8a"
      },
      "execution_count": 3,
      "outputs": [
        {
          "output_type": "stream",
          "name": "stdout",
          "text": [
            "11.25\n",
            "18.0\n",
            "20.0\n",
            "10.75\n",
            "9.5\n"
          ]
        }
      ]
    },
    {
      "cell_type": "code",
      "source": [
        "# areas list\n",
        "areas = [11.25, 18.0, 20.0, 10.75, 9.50]\n",
        "\n",
        "# Change for loop to use enumerate() and update print()\n",
        "for index, a in enumerate(areas) :\n",
        "    print(\"room \"+str(index)+\": \"+ str(a))"
      ],
      "metadata": {
        "colab": {
          "base_uri": "https://localhost:8080/"
        },
        "id": "prvFTVC263kC",
        "outputId": "2878bacf-c9f3-4d43-831a-695e02e867a8"
      },
      "execution_count": 4,
      "outputs": [
        {
          "output_type": "stream",
          "name": "stdout",
          "text": [
            "room 0: 11.25\n",
            "room 1: 18.0\n",
            "room 2: 20.0\n",
            "room 3: 10.75\n",
            "room 4: 9.5\n"
          ]
        }
      ]
    },
    {
      "cell_type": "code",
      "source": [
        "# areas list\n",
        "areas = [11.25, 18.0, 20.0, 10.75, 9.50]\n",
        "\n",
        "# Code the for loop\n",
        "for index, area in enumerate(areas) :\n",
        "    print(\"room \" + str(index +1) + \": \" + str(area))"
      ],
      "metadata": {
        "colab": {
          "base_uri": "https://localhost:8080/"
        },
        "id": "SlESGMgM8RUy",
        "outputId": "e6bcc04d-d80a-40d1-9ef4-da53f1075ac5"
      },
      "execution_count": 5,
      "outputs": [
        {
          "output_type": "stream",
          "name": "stdout",
          "text": [
            "room 1: 11.25\n",
            "room 2: 18.0\n",
            "room 3: 20.0\n",
            "room 4: 10.75\n",
            "room 5: 9.5\n"
          ]
        }
      ]
    },
    {
      "cell_type": "code",
      "source": [
        "# house list of lists\n",
        "house = [[\"hallway\", 11.25],\n",
        "         [\"kitchen\", 18.0],\n",
        "         [\"living room\", 20.0],\n",
        "         [\"bedroom\", 10.75],\n",
        "         [\"bathroom\", 9.50]]\n",
        "\n",
        "# Build a for loop from scratch\n",
        "for room in house:\n",
        "    name, area = room\n",
        "    print(\"the \"+ name + \" is \"+ str(area)+\" sqm\")"
      ],
      "metadata": {
        "colab": {
          "base_uri": "https://localhost:8080/"
        },
        "id": "ENJnrx8A9TPx",
        "outputId": "e495e248-414d-4d9c-b3ad-7157027bd842"
      },
      "execution_count": 6,
      "outputs": [
        {
          "output_type": "stream",
          "name": "stdout",
          "text": [
            "the hallway is 11.25 sqm\n",
            "the kitchen is 18.0 sqm\n",
            "the living room is 20.0 sqm\n",
            "the bedroom is 10.75 sqm\n",
            "the bathroom is 9.5 sqm\n"
          ]
        }
      ]
    },
    {
      "cell_type": "code",
      "source": [
        "for room in house:\n",
        "    name, area = room\n",
        "    print(f\"The {name} is {area} sqm\")"
      ],
      "metadata": {
        "colab": {
          "base_uri": "https://localhost:8080/"
        },
        "id": "R8w2gE_J9WAx",
        "outputId": "60bd23c8-3c9e-441f-fa64-4e877b5d4078"
      },
      "execution_count": 7,
      "outputs": [
        {
          "output_type": "stream",
          "name": "stdout",
          "text": [
            "The hallway is 11.25 sqm\n",
            "The kitchen is 18.0 sqm\n",
            "The living room is 20.0 sqm\n",
            "The bedroom is 10.75 sqm\n",
            "The bathroom is 9.5 sqm\n"
          ]
        }
      ]
    },
    {
      "cell_type": "markdown",
      "source": [
        "Loop Data Structures"
      ],
      "metadata": {
        "id": "xkxfxZFD9cQ5"
      }
    },
    {
      "cell_type": "code",
      "source": [
        "# Definition of dictionary\n",
        "europe = {'spain':'madrid', 'france':'paris', 'germany':'berlin',\n",
        "          'norway':'oslo', 'italy':'rome', 'poland':'warsaw', 'austria':'vienna' }\n",
        "\n",
        "# Iterate over europe\n",
        "for key, value in europe.items() :\n",
        "    print(\"the capital of \"+ key+ \"is \" +value)"
      ],
      "metadata": {
        "colab": {
          "base_uri": "https://localhost:8080/"
        },
        "id": "yimWSOBC9dkY",
        "outputId": "cd2f9216-51c9-4d34-f883-a748734e7671"
      },
      "execution_count": 8,
      "outputs": [
        {
          "output_type": "stream",
          "name": "stdout",
          "text": [
            "the capital of spainis madrid\n",
            "the capital of franceis paris\n",
            "the capital of germanyis berlin\n",
            "the capital of norwayis oslo\n",
            "the capital of italyis rome\n",
            "the capital of polandis warsaw\n",
            "the capital of austriais vienna\n"
          ]
        }
      ]
    },
    {
      "cell_type": "code",
      "source": [
        "# # Import numpy as np\n",
        "# import numpy as np\n",
        "\n",
        "# # For loop over np_height\n",
        "# for height in np_height:\n",
        "#     print(str(height) + \" inches\")\n",
        "\n",
        "# # For loop over np_baseball\n",
        "# for data in np.nditer(np_baseball) :\n",
        "#     print(data)"
      ],
      "metadata": {
        "id": "sKevLIAdDMz_"
      },
      "execution_count": 9,
      "outputs": []
    },
    {
      "cell_type": "code",
      "source": [
        "# Import cars data\n",
        "import pandas as pd\n",
        "cars = pd.read_csv('cars.csv', index_col = 1)\n",
        "\n",
        "# Iterate over rows of cars\n",
        "for lab, row in cars.iterrows() :\n",
        "    print(lab)\n",
        "    print(\"--------\")\n",
        "    print(row)"
      ],
      "metadata": {
        "colab": {
          "base_uri": "https://localhost:8080/"
        },
        "id": "HgfIm9d2GRJe",
        "outputId": "2f1b84e9-d61e-49d9-b1e6-64449d5fd691"
      },
      "execution_count": 16,
      "outputs": [
        {
          "output_type": "stream",
          "name": "stdout",
          "text": [
            "US\n",
            "--------\n",
            "Unnamed: 0                NaN\n",
            "cars_per_cap              809\n",
            "country         United States\n",
            "drives_right             True\n",
            "Name: US, dtype: object\n",
            "AUS\n",
            "--------\n",
            "Unnamed: 0            NaN\n",
            "cars_per_cap          731\n",
            "country         Australia\n",
            "drives_right        False\n",
            "Name: AUS, dtype: object\n",
            "JAP\n",
            "--------\n",
            "Unnamed: 0        NaN\n",
            "cars_per_cap      588\n",
            "country         Japan\n",
            "drives_right    False\n",
            "Name: JAP, dtype: object\n",
            "IN\n",
            "--------\n",
            "Unnamed: 0        NaN\n",
            "cars_per_cap       18\n",
            "country         India\n",
            "drives_right    False\n",
            "Name: IN, dtype: object\n",
            "RU\n",
            "--------\n",
            "Unnamed: 0         NaN\n",
            "cars_per_cap       200\n",
            "country         Russia\n",
            "drives_right      True\n",
            "Name: RU, dtype: object\n",
            "MOR\n",
            "--------\n",
            "Unnamed: 0          NaN\n",
            "cars_per_cap         70\n",
            "country         Morocco\n",
            "drives_right       True\n",
            "Name: MOR, dtype: object\n",
            "EG\n",
            "--------\n",
            "Unnamed: 0        NaN\n",
            "cars_per_cap       45\n",
            "country         Egypt\n",
            "drives_right     True\n",
            "Name: EG, dtype: object\n"
          ]
        }
      ]
    },
    {
      "cell_type": "code",
      "source": [
        "# Import cars data\n",
        "import pandas as pd\n",
        "cars = pd.read_csv('cars.csv', index_col = 1)\n",
        "\n",
        "# Adapt for loop\n",
        "for lab, row in cars.iterrows() :\n",
        "    print(lab + \": \" + str(row['cars_per_cap']))\n",
        ""
      ],
      "metadata": {
        "colab": {
          "base_uri": "https://localhost:8080/"
        },
        "id": "Vsep1O-BG7y1",
        "outputId": "9992fe8a-2be2-4243-fcbb-f05626db3344"
      },
      "execution_count": 15,
      "outputs": [
        {
          "output_type": "stream",
          "name": "stdout",
          "text": [
            "US: 809\n",
            "AUS: 731\n",
            "JAP: 588\n",
            "IN: 18\n",
            "RU: 200\n",
            "MOR: 70\n",
            "EG: 45\n"
          ]
        }
      ]
    },
    {
      "cell_type": "code",
      "source": [
        "# Import cars data\n",
        "import pandas as pd\n",
        "cars = pd.read_csv('cars.csv', index_col = 1)\n",
        "\n",
        "# Code for loop that adds COUNTRY column\n",
        "for lab, row in cars.iterrows() :\n",
        "     cars.loc[lab , \"COUNTRY\"] = row[\"country\"].upper()\n",
        "\n",
        "\n",
        "# Print cars\n",
        "print(cars)"
      ],
      "metadata": {
        "colab": {
          "base_uri": "https://localhost:8080/"
        },
        "id": "eRyJ224JHcYW",
        "outputId": "cbcbab2b-f5bd-4b53-88d0-ca0c3577bf04"
      },
      "execution_count": 18,
      "outputs": [
        {
          "output_type": "stream",
          "name": "stdout",
          "text": [
            "     Unnamed: 0  cars_per_cap        country  drives_right        COUNTRY\n",
            "US          NaN           809  United States          True  UNITED STATES\n",
            "AUS         NaN           731      Australia         False      AUSTRALIA\n",
            "JAP         NaN           588          Japan         False          JAPAN\n",
            "IN          NaN            18          India         False          INDIA\n",
            "RU          NaN           200         Russia          True         RUSSIA\n",
            "MOR         NaN            70        Morocco          True        MOROCCO\n",
            "EG          NaN            45          Egypt          True          EGYPT\n"
          ]
        }
      ]
    },
    {
      "cell_type": "code",
      "source": [
        "# Import cars data\n",
        "import pandas as pd\n",
        "cars = pd.read_csv('cars.csv', index_col = 1)\n",
        "\n",
        "# Use .apply(str.upper)\n",
        "\n",
        "cars[\"COUNTRY\"] = cars[\"country\"].apply(str.upper)\n",
        "\n",
        "print(cars)"
      ],
      "metadata": {
        "colab": {
          "base_uri": "https://localhost:8080/"
        },
        "id": "QxeaKPZ2WCvA",
        "outputId": "7f2328df-e45e-42bb-e608-cb150b1b37e0"
      },
      "execution_count": 20,
      "outputs": [
        {
          "output_type": "stream",
          "name": "stdout",
          "text": [
            "     Unnamed: 0  cars_per_cap        country  drives_right        COUNTRY\n",
            "US          NaN           809  United States          True  UNITED STATES\n",
            "AUS         NaN           731      Australia         False      AUSTRALIA\n",
            "JAP         NaN           588          Japan         False          JAPAN\n",
            "IN          NaN            18          India         False          INDIA\n",
            "RU          NaN           200         Russia          True         RUSSIA\n",
            "MOR         NaN            70        Morocco          True        MOROCCO\n",
            "EG          NaN            45          Egypt          True          EGYPT\n"
          ]
        }
      ]
    }
  ]
}